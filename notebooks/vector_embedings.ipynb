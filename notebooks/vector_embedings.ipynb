{
 "cells": [
  {
   "cell_type": "markdown",
   "metadata": {},
   "source": [
    "## 1. Set up the environment\n",
    "First, ensure you have the necessary libraries installed for embedding generation, vector search, and data manipulation. You can use models from transformers for embedding generation, faiss for similarity search, and pandas for working with your DataFrame."
   ]
  },
  {
   "cell_type": "code",
   "execution_count": 3,
   "metadata": {},
   "outputs": [],
   "source": [
    "from pathlib import Path\n",
    "\n",
    "\n",
    "path_root = Path.cwd()\n",
    "while not (path_root / \"data\").exists():\n",
    "    if path_root == path_root.parent:\n",
    "        raise FileNotFoundError(\"Directory 'data' not found\")\n",
    "    path_root = path_root.parent\n",
    "\n",
    "path_data = path_root / \"data\""
   ]
  },
  {
   "cell_type": "code",
   "execution_count": 9,
   "metadata": {},
   "outputs": [
    {
     "name": "stderr",
     "output_type": "stream",
     "text": [
      "c:\\Users\\Guill\\Miniconda3\\envs\\qrs\\Lib\\site-packages\\tqdm\\auto.py:21: TqdmWarning: IProgress not found. Please update jupyter and ipywidgets. See https://ipywidgets.readthedocs.io/en/stable/user_install.html\n",
      "  from .autonotebook import tqdm as notebook_tqdm\n"
     ]
    }
   ],
   "source": [
    "import pandas as pd\n",
    "from sklearn.cluster import DBSCAN\n",
    "from sklearn.metrics.pairwise import cosine_similarity\n",
    "import re\n",
    "\n",
    "from sentence_transformers import SentenceTransformer"
   ]
  },
  {
   "cell_type": "markdown",
   "metadata": {},
   "source": [
    "## 2. Prepare your DataFrame\n",
    "You should have a DataFrame that contains a text column for which you want to perform a similarity search."
   ]
  },
  {
   "cell_type": "code",
   "execution_count": 96,
   "metadata": {},
   "outputs": [],
   "source": [
    "data_BoR = pd.read_excel(\n",
    "    path_root / 'data/processed/Bank_of_Rules-refractored.xlsx',\n",
    "    usecols=['Description', 'RuleID', 'Code', 'Parameters'],\n",
    "    index_col='RuleID'\n",
    "    )\n",
    "\n",
    "df_defs = (pd.read_json(path_root / 'data/internim/definitions.json')[['RuleID', 'Description',\n",
    "                                   'Condition/Logic', 'Example',\n",
    "                                #    'Parameters',\n",
    "                                   'Category', 'Categorization']]\n",
    "            .drop_duplicates(subset=['RuleID'])).set_index('RuleID')"
   ]
  },
  {
   "cell_type": "code",
   "execution_count": 42,
   "metadata": {},
   "outputs": [
    {
     "data": {
      "text/plain": [
       "Index(['RuleID', 'Description', 'Condition/Logic', 'Example', 'Category',\n",
       "       'Categorization'],\n",
       "      dtype='object')"
      ]
     },
     "metadata": {},
     "output_type": "display_data"
    },
    {
     "data": {
      "text/html": [
       "<div>\n",
       "<style scoped>\n",
       "    .dataframe tbody tr th:only-of-type {\n",
       "        vertical-align: middle;\n",
       "    }\n",
       "\n",
       "    .dataframe tbody tr th {\n",
       "        vertical-align: top;\n",
       "    }\n",
       "\n",
       "    .dataframe thead th {\n",
       "        text-align: right;\n",
       "    }\n",
       "</style>\n",
       "<table border=\"1\" class=\"dataframe\">\n",
       "  <thead>\n",
       "    <tr style=\"text-align: right;\">\n",
       "      <th></th>\n",
       "      <th>RuleID</th>\n",
       "      <th>Description</th>\n",
       "      <th>Condition/Logic</th>\n",
       "      <th>Example</th>\n",
       "      <th>Category</th>\n",
       "      <th>Categorization</th>\n",
       "    </tr>\n",
       "  </thead>\n",
       "  <tbody>\n",
       "    <tr>\n",
       "      <th>0</th>\n",
       "      <td>DQRC0001</td>\n",
       "      <td>Checks that the value in `&lt;cde&gt;` is not null a...</td>\n",
       "      <td>`&lt;cde&gt;` is non-null and contains non-whitespac...</td>\n",
       "      <td>If `&lt;cde&gt;` = `Name` and `Name` = `John`, retur...</td>\n",
       "      <td>Completeness</td>\n",
       "      <td>Completeness / Non-Null Check</td>\n",
       "    </tr>\n",
       "    <tr>\n",
       "      <th>1</th>\n",
       "      <td>DQRA0194</td>\n",
       "      <td>Ensures that `&lt;cde&gt;` exists in `&lt;#&gt;catalog&lt;#&gt;`...</td>\n",
       "      <td>`&lt;cde&gt;` exists in `&lt;#&gt;catalog&lt;#&gt;` keyed by `&lt;#...</td>\n",
       "      <td>If `&lt;#&gt;DependentColumn&lt;#&gt;`=`VIP` and `&lt;#&gt;ListA...</td>\n",
       "      <td>Catalog Check</td>\n",
       "      <td>Value List / Catalog Membership</td>\n",
       "    </tr>\n",
       "    <tr>\n",
       "      <th>2</th>\n",
       "      <td>DQRV0020</td>\n",
       "      <td>Compares `&lt;cde&gt;` with `&lt;#&gt;Column1&lt;#&gt;` as dates...</td>\n",
       "      <td>Parse `&lt;cde&gt;` using `&lt;#&gt;frmtDte1&lt;#&gt;` and `&lt;#&gt;C...</td>\n",
       "      <td>If `&lt;#&gt;Operator&lt;#&gt;`=`==` and both dates parse ...</td>\n",
       "      <td>Date Check</td>\n",
       "      <td>Date Validation and Comparisons</td>\n",
       "    </tr>\n",
       "    <tr>\n",
       "      <th>3</th>\n",
       "      <td>DQRU0004</td>\n",
       "      <td>Ensures that `&lt;cde&gt;` does not contain duplicat...</td>\n",
       "      <td>`&lt;cde&gt;` must not have any duplicate values wit...</td>\n",
       "      <td>If `&lt;cde&gt;`=`ID` and `ID`=[1, 2, 3, 3], return ...</td>\n",
       "      <td>Uniqueness Check</td>\n",
       "      <td>Uniqueness / Duplicate Checks</td>\n",
       "    </tr>\n",
       "    <tr>\n",
       "      <th>4</th>\n",
       "      <td>DQRF0005</td>\n",
       "      <td>Validates that the length of the value in `&lt;cd...</td>\n",
       "      <td>The length of `&lt;cde&gt;` must satisfy `&lt;#&gt;Operato...</td>\n",
       "      <td>If `&lt;cde&gt;`=`Name` and `&lt;#&gt;Operator&lt;#&gt;`=`&gt;` `&lt;#...</td>\n",
       "      <td>Length Check</td>\n",
       "      <td>Data Type / Numeric / Length Constraints</td>\n",
       "    </tr>\n",
       "    <tr>\n",
       "      <th>5</th>\n",
       "      <td>DQRF0037</td>\n",
       "      <td>Applies a regex pattern (`&lt;#&gt;pattern&lt;#&gt;`) to v...</td>\n",
       "      <td>`&lt;cde&gt;` must match the provided `&lt;#&gt;pattern&lt;#&gt;...</td>\n",
       "      <td>If `&lt;cde&gt;`=`Code` and `&lt;#&gt;pattern&lt;#&gt;`=`^[A-Z]{...</td>\n",
       "      <td>Pattern Matching</td>\n",
       "      <td>Pattern Matching / Regex Validation</td>\n",
       "    </tr>\n",
       "    <tr>\n",
       "      <th>6</th>\n",
       "      <td>DQRI0106</td>\n",
       "      <td>Ensures that `&lt;cde&gt;` falls between `&lt;#&gt;Column2...</td>\n",
       "      <td>`&lt;cde&gt;` must satisfy `&lt;#&gt;Column2&lt;#&gt; &lt;= &lt;cde&gt; &lt;...</td>\n",
       "      <td>If `&lt;cde&gt;`=`Score`=`50`, `&lt;#&gt;Column2&lt;#&gt;`=`40`,...</td>\n",
       "      <td>Range Check</td>\n",
       "      <td>Conditional Checks Based on Other Columns</td>\n",
       "    </tr>\n",
       "    <tr>\n",
       "      <th>7</th>\n",
       "      <td>DQRC0044</td>\n",
       "      <td>Checks if the value in `&lt;cde&gt;` is non-null and...</td>\n",
       "      <td>`&lt;cde&gt;` must be non-null and contain character...</td>\n",
       "      <td>If `&lt;cde&gt;`=`Address` and `Address`=`'123 Main ...</td>\n",
       "      <td>Completeness</td>\n",
       "      <td>Completeness / Non-Null Check</td>\n",
       "    </tr>\n",
       "    <tr>\n",
       "      <th>8</th>\n",
       "      <td>DQRF0006</td>\n",
       "      <td>Ensures that the length of `&lt;cde&gt;` falls betwe...</td>\n",
       "      <td>`&lt;#&gt;length_min&lt;#&gt;` `&lt;#&gt;Operator1&lt;#&gt;` length of...</td>\n",
       "      <td>If `&lt;cde&gt;`=`Name`, `&lt;#&gt;length_min&lt;#&gt;`=`5`, `&lt;#...</td>\n",
       "      <td>Length Check</td>\n",
       "      <td>Data Type / Numeric / Length Constraints</td>\n",
       "    </tr>\n",
       "    <tr>\n",
       "      <th>9</th>\n",
       "      <td>DQRF0178</td>\n",
       "      <td>Ensures that `&lt;cde&gt;` does not contain a decima...</td>\n",
       "      <td>The decimal part of `&lt;cde&gt;` must have at most ...</td>\n",
       "      <td>If `&lt;cde&gt;`=`Amount` and `&lt;#&gt;DecimalComplement&lt;...</td>\n",
       "      <td>Numeric Validation</td>\n",
       "      <td>Data Type / Numeric / Length Constraints</td>\n",
       "    </tr>\n",
       "    <tr>\n",
       "      <th>10</th>\n",
       "      <td>DQRV0014</td>\n",
       "      <td>Ensures that `&lt;cde&gt;` matches a numeric format ...</td>\n",
       "      <td>`&lt;cde&gt;` must match the pattern `\\d{1,14}\\.\\d{2}`.</td>\n",
       "      <td>If `&lt;cde&gt;`=`Balance` and `Balance`=`1234567890...</td>\n",
       "      <td>Pattern Matching</td>\n",
       "      <td>Pattern Matching / Regex Validation</td>\n",
       "    </tr>\n",
       "    <tr>\n",
       "      <th>11</th>\n",
       "      <td>DQRV0009</td>\n",
       "      <td>Checks if `&lt;cde&gt;` is present in a catalog (`&lt;#...</td>\n",
       "      <td>`&lt;cde&gt;` must exist in `&lt;#&gt;catalog&lt;#&gt;` keyed by...</td>\n",
       "      <td>If `&lt;cde&gt;`=`ProductID`, `&lt;#&gt;catalog&lt;#&gt;` contai...</td>\n",
       "      <td>Catalog Check</td>\n",
       "      <td>Value List / Catalog Membership</td>\n",
       "    </tr>\n",
       "    <tr>\n",
       "      <th>12</th>\n",
       "      <td>DQRF0030</td>\n",
       "      <td>Validates that `&lt;cde&gt;` contains at least three...</td>\n",
       "      <td>`&lt;cde&gt;` must have at least three consecutive '...</td>\n",
       "      <td>If `&lt;cde&gt;`=`Code` and `Code`=`'BAAAC'`, return...</td>\n",
       "      <td>Pattern Matching</td>\n",
       "      <td>Pattern Matching / Regex Validation</td>\n",
       "    </tr>\n",
       "    <tr>\n",
       "      <th>13</th>\n",
       "      <td>DQRC0094</td>\n",
       "      <td>Ensures `&lt;cde&gt;` is non-null and non-empty when...</td>\n",
       "      <td>`&lt;cde&gt;` must not be null or empty if `&lt;#&gt;Colum...</td>\n",
       "      <td>If `&lt;#&gt;Column1&lt;#&gt;`=`A`, `&lt;#&gt;Lista&lt;#&gt;`=`[A, B]`...</td>\n",
       "      <td>Conditional Completeness</td>\n",
       "      <td>Conditional Checks Based on Other Columns</td>\n",
       "    </tr>\n",
       "    <tr>\n",
       "      <th>14</th>\n",
       "      <td>DQRV0002</td>\n",
       "      <td>Validates that `&lt;cde&gt;` satisfies a numeric com...</td>\n",
       "      <td>`&lt;cde&gt;` must satisfy `&lt;#&gt;Operator&lt;#&gt;` `&lt;#&gt;comp...</td>\n",
       "      <td>If `&lt;cde&gt;`=`Score`, `&lt;#&gt;Operator&lt;#&gt;`=`&gt;=`, and...</td>\n",
       "      <td>Numeric Validation</td>\n",
       "      <td>Data Type / Numeric / Length Constraints</td>\n",
       "    </tr>\n",
       "    <tr>\n",
       "      <th>15</th>\n",
       "      <td>DQRV0023</td>\n",
       "      <td>Checks if `&lt;cde&gt;` is part of a specified list ...</td>\n",
       "      <td>`&lt;cde&gt;` must be in `&lt;#&gt;Lista&lt;#&gt;`.</td>\n",
       "      <td>If `&lt;cde&gt;`=`Category` and `&lt;#&gt;Lista&lt;#&gt;`=`['A',...</td>\n",
       "      <td>List Validation</td>\n",
       "      <td>Value List / Catalog Membership</td>\n",
       "    </tr>\n",
       "    <tr>\n",
       "      <th>16</th>\n",
       "      <td>DQRF0077</td>\n",
       "      <td>Validates that `&lt;cde&gt;` represents a valid date...</td>\n",
       "      <td>`&lt;cde&gt;` must match `YYYYMMDD` format and have ...</td>\n",
       "      <td>If `&lt;cde&gt;`=`Date` and `Date`=`'20231215'`, ret...</td>\n",
       "      <td>Date Validation</td>\n",
       "      <td>Date Validation and Comparisons</td>\n",
       "    </tr>\n",
       "    <tr>\n",
       "      <th>17</th>\n",
       "      <td>DQRF0037</td>\n",
       "      <td>Validates `&lt;cde&gt;` against a regex pattern (`&lt;#...</td>\n",
       "      <td>`&lt;cde&gt;` must match the provided `&lt;#&gt;pattern&lt;#&gt;`.</td>\n",
       "      <td>If `&lt;cde&gt;`=`Code` and `&lt;#&gt;pattern&lt;#&gt;`=`^[A-Z]{...</td>\n",
       "      <td>Pattern Matching</td>\n",
       "      <td>Pattern Matching / Regex Validation</td>\n",
       "    </tr>\n",
       "    <tr>\n",
       "      <th>18</th>\n",
       "      <td>DQRU0127</td>\n",
       "      <td>Ensures `&lt;cde&gt;` does not contain duplicate val...</td>\n",
       "      <td>All values in `&lt;cde&gt;` must be unique.</td>\n",
       "      <td>If `&lt;cde&gt;`=`ID` and `ID`=[1, 2, 3, 3], return ...</td>\n",
       "      <td>Uniqueness Check</td>\n",
       "      <td>Uniqueness / Duplicate Checks</td>\n",
       "    </tr>\n",
       "    <tr>\n",
       "      <th>19</th>\n",
       "      <td>DQRV0020</td>\n",
       "      <td>Compares `&lt;cde&gt;` with `&lt;#&gt;Column1&lt;#&gt;` as dates...</td>\n",
       "      <td>`&lt;cde&gt;` and `&lt;#&gt;Column1&lt;#&gt;` must satisfy the c...</td>\n",
       "      <td>If `&lt;cde&gt;`=`'20231215'`, `&lt;#&gt;Column1&lt;#&gt;`=`'202...</td>\n",
       "      <td>Date Validation</td>\n",
       "      <td>Date Validation and Comparisons</td>\n",
       "    </tr>\n",
       "    <tr>\n",
       "      <th>20</th>\n",
       "      <td>DQRF0175</td>\n",
       "      <td>Ensures `&lt;cde&gt;` does not contain any character...</td>\n",
       "      <td>`&lt;cde&gt;` must not contain any character in `&lt;#&gt;...</td>\n",
       "      <td>If `&lt;cde&gt;`=`Name` and `&lt;#&gt;Lista&lt;#&gt;`=`['$', '@'...</td>\n",
       "      <td>Character Validation</td>\n",
       "      <td>Data Validity Checks</td>\n",
       "    </tr>\n",
       "    <tr>\n",
       "      <th>21</th>\n",
       "      <td>DQRI0108</td>\n",
       "      <td>Ensures `&lt;cde&gt;` is strictly greater than `&lt;#&gt;C...</td>\n",
       "      <td>`&lt;cde&gt;` must satisfy `&lt;cde&gt;` &gt; `&lt;#&gt;Column2&lt;#&gt;`.</td>\n",
       "      <td>If `&lt;cde&gt;`=`Score`=`60` and `&lt;#&gt;Column2&lt;#&gt;`=`5...</td>\n",
       "      <td>Numeric Comparison</td>\n",
       "      <td>Conditional Checks Based on Other Columns</td>\n",
       "    </tr>\n",
       "  </tbody>\n",
       "</table>\n",
       "</div>"
      ],
      "text/plain": [
       "      RuleID                                        Description  \\\n",
       "0   DQRC0001  Checks that the value in `<cde>` is not null a...   \n",
       "1   DQRA0194  Ensures that `<cde>` exists in `<#>catalog<#>`...   \n",
       "2   DQRV0020  Compares `<cde>` with `<#>Column1<#>` as dates...   \n",
       "3   DQRU0004  Ensures that `<cde>` does not contain duplicat...   \n",
       "4   DQRF0005  Validates that the length of the value in `<cd...   \n",
       "5   DQRF0037  Applies a regex pattern (`<#>pattern<#>`) to v...   \n",
       "6   DQRI0106  Ensures that `<cde>` falls between `<#>Column2...   \n",
       "7   DQRC0044  Checks if the value in `<cde>` is non-null and...   \n",
       "8   DQRF0006  Ensures that the length of `<cde>` falls betwe...   \n",
       "9   DQRF0178  Ensures that `<cde>` does not contain a decima...   \n",
       "10  DQRV0014  Ensures that `<cde>` matches a numeric format ...   \n",
       "11  DQRV0009  Checks if `<cde>` is present in a catalog (`<#...   \n",
       "12  DQRF0030  Validates that `<cde>` contains at least three...   \n",
       "13  DQRC0094  Ensures `<cde>` is non-null and non-empty when...   \n",
       "14  DQRV0002  Validates that `<cde>` satisfies a numeric com...   \n",
       "15  DQRV0023  Checks if `<cde>` is part of a specified list ...   \n",
       "16  DQRF0077  Validates that `<cde>` represents a valid date...   \n",
       "17  DQRF0037  Validates `<cde>` against a regex pattern (`<#...   \n",
       "18  DQRU0127  Ensures `<cde>` does not contain duplicate val...   \n",
       "19  DQRV0020  Compares `<cde>` with `<#>Column1<#>` as dates...   \n",
       "20  DQRF0175  Ensures `<cde>` does not contain any character...   \n",
       "21  DQRI0108  Ensures `<cde>` is strictly greater than `<#>C...   \n",
       "\n",
       "                                      Condition/Logic  \\\n",
       "0   `<cde>` is non-null and contains non-whitespac...   \n",
       "1   `<cde>` exists in `<#>catalog<#>` keyed by `<#...   \n",
       "2   Parse `<cde>` using `<#>frmtDte1<#>` and `<#>C...   \n",
       "3   `<cde>` must not have any duplicate values wit...   \n",
       "4   The length of `<cde>` must satisfy `<#>Operato...   \n",
       "5   `<cde>` must match the provided `<#>pattern<#>...   \n",
       "6   `<cde>` must satisfy `<#>Column2<#> <= <cde> <...   \n",
       "7   `<cde>` must be non-null and contain character...   \n",
       "8   `<#>length_min<#>` `<#>Operator1<#>` length of...   \n",
       "9   The decimal part of `<cde>` must have at most ...   \n",
       "10  `<cde>` must match the pattern `\\d{1,14}\\.\\d{2}`.   \n",
       "11  `<cde>` must exist in `<#>catalog<#>` keyed by...   \n",
       "12  `<cde>` must have at least three consecutive '...   \n",
       "13  `<cde>` must not be null or empty if `<#>Colum...   \n",
       "14  `<cde>` must satisfy `<#>Operator<#>` `<#>comp...   \n",
       "15                  `<cde>` must be in `<#>Lista<#>`.   \n",
       "16  `<cde>` must match `YYYYMMDD` format and have ...   \n",
       "17   `<cde>` must match the provided `<#>pattern<#>`.   \n",
       "18              All values in `<cde>` must be unique.   \n",
       "19  `<cde>` and `<#>Column1<#>` must satisfy the c...   \n",
       "20  `<cde>` must not contain any character in `<#>...   \n",
       "21    `<cde>` must satisfy `<cde>` > `<#>Column2<#>`.   \n",
       "\n",
       "                                              Example  \\\n",
       "0   If `<cde>` = `Name` and `Name` = `John`, retur...   \n",
       "1   If `<#>DependentColumn<#>`=`VIP` and `<#>ListA...   \n",
       "2   If `<#>Operator<#>`=`==` and both dates parse ...   \n",
       "3   If `<cde>`=`ID` and `ID`=[1, 2, 3, 3], return ...   \n",
       "4   If `<cde>`=`Name` and `<#>Operator<#>`=`>` `<#...   \n",
       "5   If `<cde>`=`Code` and `<#>pattern<#>`=`^[A-Z]{...   \n",
       "6   If `<cde>`=`Score`=`50`, `<#>Column2<#>`=`40`,...   \n",
       "7   If `<cde>`=`Address` and `Address`=`'123 Main ...   \n",
       "8   If `<cde>`=`Name`, `<#>length_min<#>`=`5`, `<#...   \n",
       "9   If `<cde>`=`Amount` and `<#>DecimalComplement<...   \n",
       "10  If `<cde>`=`Balance` and `Balance`=`1234567890...   \n",
       "11  If `<cde>`=`ProductID`, `<#>catalog<#>` contai...   \n",
       "12  If `<cde>`=`Code` and `Code`=`'BAAAC'`, return...   \n",
       "13  If `<#>Column1<#>`=`A`, `<#>Lista<#>`=`[A, B]`...   \n",
       "14  If `<cde>`=`Score`, `<#>Operator<#>`=`>=`, and...   \n",
       "15  If `<cde>`=`Category` and `<#>Lista<#>`=`['A',...   \n",
       "16  If `<cde>`=`Date` and `Date`=`'20231215'`, ret...   \n",
       "17  If `<cde>`=`Code` and `<#>pattern<#>`=`^[A-Z]{...   \n",
       "18  If `<cde>`=`ID` and `ID`=[1, 2, 3, 3], return ...   \n",
       "19  If `<cde>`=`'20231215'`, `<#>Column1<#>`=`'202...   \n",
       "20  If `<cde>`=`Name` and `<#>Lista<#>`=`['$', '@'...   \n",
       "21  If `<cde>`=`Score`=`60` and `<#>Column2<#>`=`5...   \n",
       "\n",
       "                    Category                             Categorization  \n",
       "0               Completeness              Completeness / Non-Null Check  \n",
       "1              Catalog Check            Value List / Catalog Membership  \n",
       "2                 Date Check            Date Validation and Comparisons  \n",
       "3           Uniqueness Check              Uniqueness / Duplicate Checks  \n",
       "4               Length Check   Data Type / Numeric / Length Constraints  \n",
       "5           Pattern Matching        Pattern Matching / Regex Validation  \n",
       "6                Range Check  Conditional Checks Based on Other Columns  \n",
       "7               Completeness              Completeness / Non-Null Check  \n",
       "8               Length Check   Data Type / Numeric / Length Constraints  \n",
       "9         Numeric Validation   Data Type / Numeric / Length Constraints  \n",
       "10          Pattern Matching        Pattern Matching / Regex Validation  \n",
       "11             Catalog Check            Value List / Catalog Membership  \n",
       "12          Pattern Matching        Pattern Matching / Regex Validation  \n",
       "13  Conditional Completeness  Conditional Checks Based on Other Columns  \n",
       "14        Numeric Validation   Data Type / Numeric / Length Constraints  \n",
       "15           List Validation            Value List / Catalog Membership  \n",
       "16           Date Validation            Date Validation and Comparisons  \n",
       "17          Pattern Matching        Pattern Matching / Regex Validation  \n",
       "18          Uniqueness Check              Uniqueness / Duplicate Checks  \n",
       "19           Date Validation            Date Validation and Comparisons  \n",
       "20      Character Validation                       Data Validity Checks  \n",
       "21        Numeric Comparison  Conditional Checks Based on Other Columns  "
      ]
     },
     "execution_count": 42,
     "metadata": {},
     "output_type": "execute_result"
    }
   ],
   "source": [
    "display(df_defs.columns)\n",
    "df_defs = (\n",
    "    df_defs\n",
    "    .drop_duplicates()\n",
    "    # .shape\n",
    "    )\n",
    "df_defs"
   ]
  },
  {
   "cell_type": "markdown",
   "metadata": {},
   "source": [
    "## 3. Generate Vector Embeddings\n",
    "Use a pre-trained transformer model like distilbert-base-uncased or sentence-transformers to generate embeddings for each entry in the text column.*italicized text*"
   ]
  },
  {
   "cell_type": "code",
   "execution_count": 43,
   "metadata": {},
   "outputs": [],
   "source": [
    "from transformers import AutoTokenizer, AutoModel\n",
    "import torch\n",
    "\n",
    "# Load a transformer model and tokenizer\n",
    "tokenizer = AutoTokenizer.from_pretrained('sentence-transformers/all-MiniLM-L6-v2')\n",
    "model = AutoModel.from_pretrained('sentence-transformers/all-MiniLM-L6-v2')\n",
    "\n",
    "# Save your files to a specified directory with PreTrainedModel.save_pretrained():\n",
    "tokenizer.save_pretrained(path_root / \"sentence-transformers/all-MiniLM-L6-v2/tokenizer\")\n",
    "model.save_pretrained(path_root / \"sentence-transformers/all-MiniLM-L6-v2/model\")\n",
    "\n",
    "# #Now when you’re offline, reload your files with PreTrainedModel.from_pretrained() from the specified directory:\n",
    "# tokenizer = AutoTokenizer.from_pretrained(\"sentence-transformers/all-MiniLM-L6-v2/tokenizer\")\n",
    "# model = AutoModel.from_pretrained(\"sentence-transformers/all-MiniLM-L6-v2/model\")"
   ]
  },
  {
   "cell_type": "code",
   "execution_count": 44,
   "metadata": {},
   "outputs": [],
   "source": [
    "# Function to generate embeddings\n",
    "def get_embeddings(text):\n",
    "    inputs = tokenizer(text, return_tensors='pt', truncation=True, padding=True)\n",
    "    with torch.no_grad():\n",
    "        outputs = model(**inputs)\n",
    "    return outputs.last_hidden_state.mean(dim=1).squeeze().numpy()\n",
    "\n",
    "# Generate embeddings for each row\n",
    "df_defs['embeddings'] = df_defs['Description'].apply(lambda x: get_embeddings(x))"
   ]
  },
  {
   "cell_type": "markdown",
   "metadata": {},
   "source": [
    "## 4. Build the Search Engine with FAISS\n",
    "You can now use faiss to index these embeddings and perform similarity searches."
   ]
  },
  {
   "cell_type": "code",
   "execution_count": 45,
   "metadata": {},
   "outputs": [],
   "source": [
    "import faiss\n",
    "import numpy as np\n",
    "\n",
    "# Prepare the embeddings matrix\n",
    "embeddings_matrix = np.stack(df_defs['embeddings'].values)\n",
    "\n",
    "# Build the FAISS index\n",
    "index = faiss.IndexFlatL2(embeddings_matrix.shape[1])  # Using L2 distance\n",
    "index.add(embeddings_matrix)\n",
    "\n",
    "# Search function to find the most similar texts\n",
    "def search(query, top_k=5):\n",
    "    query_embedding = get_embeddings(query).reshape(1, -1)\n",
    "    distances, indices = index.search(query_embedding, top_k)\n",
    "    results = df_defs.iloc[indices[0]]\n",
    "    return results, distances[0]"
   ]
  },
  {
   "cell_type": "code",
   "execution_count": 46,
   "metadata": {},
   "outputs": [
    {
     "name": "stdout",
     "output_type": "stream",
     "text": [
      "Results:\n",
      "      RuleID                                        Description\n",
      "18  DQRU0127  Ensures `<cde>` does not contain duplicate val...\n",
      "3   DQRU0004  Ensures that `<cde>` does not contain duplicat...\n",
      "10  DQRV0014  Ensures that `<cde>` matches a numeric format ...\n",
      "14  DQRV0002  Validates that `<cde>` satisfies a numeric com...\n",
      "Distances: [19.23109  20.247612 26.638626 28.703209]\n"
     ]
    }
   ],
   "source": [
    "query = \"CDE should be unique\"\n",
    "results, distances = search(query, top_k=4)\n",
    "\n",
    "# Display the most similar texts\n",
    "print(\"Results:\")\n",
    "print(results[['RuleID','Description']])\n",
    "print(\"Distances:\", distances)"
   ]
  },
  {
   "cell_type": "markdown",
   "metadata": {},
   "source": [
    "## 5. Perform a Similarity Search\n",
    "You can now search your DataFrame for similar text using the search function."
   ]
  },
  {
   "cell_type": "code",
   "execution_count": 86,
   "metadata": {},
   "outputs": [
    {
     "data": {
      "text/plain": [
       "Description        Validates that `<cde>` satisfies a numeric com...\n",
       "Condition/Logic    `<cde>` must satisfy `<#>Operator<#>` `<#>comp...\n",
       "Example            If `<cde>`=`Score`, `<#>Operator<#>`=`>=`, and...\n",
       "Category                                          Numeric Validation\n",
       "Categorization              Data Type / Numeric / Length Constraints\n",
       "Name: DQRV0002, dtype: object"
      ]
     },
     "execution_count": 86,
     "metadata": {},
     "output_type": "execute_result"
    }
   ],
   "source": [
    "row"
   ]
  },
  {
   "cell_type": "code",
   "execution_count": 104,
   "metadata": {},
   "outputs": [
    {
     "data": {
      "text/plain": [
       "Description        Validates that `<cde>` satisfies a numeric com...\n",
       "Condition/Logic    `<cde>` must satisfy `<#>Operator<#>` `<#>comp...\n",
       "Example            If `<cde>`=`Score`, `<#>Operator<#>`=`>=`, and...\n",
       "Category                                          Numeric Validation\n",
       "Categorization              Data Type / Numeric / Length Constraints\n",
       "Code               <data>[cde].astype(float) <#>Operator<#> float...\n",
       "Description        Validates that <cde> satisfies a numeric compa...\n",
       "Parameters                                   ['Operator', 'compare']\n",
       "Name: DQRV0002, dtype: object"
      ]
     },
     "execution_count": 104,
     "metadata": {},
     "output_type": "execute_result"
    }
   ],
   "source": []
  },
  {
   "cell_type": "code",
   "execution_count": 105,
   "metadata": {},
   "outputs": [
    {
     "data": {
      "text/markdown": [
       "### Results:"
      ],
      "text/plain": [
       "<IPython.core.display.Markdown object>"
      ]
     },
     "metadata": {},
     "output_type": "display_data"
    },
    {
     "data": {
      "text/markdown": [
       "#### RuleID: DQRU0127"
      ],
      "text/plain": [
       "<IPython.core.display.Markdown object>"
      ]
     },
     "metadata": {},
     "output_type": "display_data"
    },
    {
     "name": "stdout",
     "output_type": "stream",
     "text": [
      "\u001b[1mDescription:\u001b[0m Ensures `<cde>` does not contain duplicate values.\n",
      "\u001b[1mCondition/Logic:\u001b[0m All values in `<cde>` must be unique.\n",
      "\u001b[1mExample:\u001b[0m If `<cde>`=`ID` and `ID`=[1, 2, 3, 3], return `False`. If `ID`=[1, 2, 3], return `True`.\n",
      "\u001b[1mCategory:\u001b[0m Uniqueness Check\n",
      "\u001b[1mCategorization:\u001b[0m Uniqueness / Duplicate Checks\n",
      "\u001b[1mCode:\u001b[0m ~<data>[cde].duplicated()\n",
      "\u001b[1mDescription:\u001b[0m Ensures that <cde> does not contain duplicate values. Similar to DQRU0004.\n",
      "\u001b[1mParameters:\u001b[0m []\n"
     ]
    },
    {
     "data": {
      "text/markdown": [
       "#### RuleID: DQRU0004"
      ],
      "text/plain": [
       "<IPython.core.display.Markdown object>"
      ]
     },
     "metadata": {},
     "output_type": "display_data"
    },
    {
     "name": "stdout",
     "output_type": "stream",
     "text": [
      "\u001b[1mDescription:\u001b[0m Ensures that `<cde>` does not contain duplicate values.\n",
      "\u001b[1mCondition/Logic:\u001b[0m `<cde>` must not have any duplicate values within the dataset.\n",
      "\u001b[1mExample:\u001b[0m If `<cde>`=`ID` and `ID`=[1, 2, 3, 3], return `False`. If `ID`=[1, 2, 3], return `True`.\n",
      "\u001b[1mCategory:\u001b[0m Uniqueness Check\n",
      "\u001b[1mCategorization:\u001b[0m Uniqueness / Duplicate Checks\n",
      "\u001b[1mCode:\u001b[0m ~<data>[cde].duplicated()\n",
      "\u001b[1mDescription:\u001b[0m Ensures that <cde> does not contain duplicate values.\n",
      "\u001b[1mParameters:\u001b[0m []\n"
     ]
    },
    {
     "data": {
      "text/markdown": [
       "#### RuleID: DQRV0014"
      ],
      "text/plain": [
       "<IPython.core.display.Markdown object>"
      ]
     },
     "metadata": {},
     "output_type": "display_data"
    },
    {
     "name": "stdout",
     "output_type": "stream",
     "text": [
      "\u001b[1mDescription:\u001b[0m Ensures that `<cde>` matches a numeric format with up to 14 digits before the decimal and exactly 2 digits after.\n",
      "\u001b[1mCondition/Logic:\u001b[0m `<cde>` must match the pattern `\\d{1,14}\\.\\d{2}`.\n",
      "\u001b[1mExample:\u001b[0m If `<cde>`=`Balance` and `Balance`=`12345678901234.56`, return `True`. If `Balance`=`123456.789`, return `False`.\n",
      "\u001b[1mCategory:\u001b[0m Pattern Matching\n",
      "\u001b[1mCategorization:\u001b[0m Pattern Matching / Regex Validation\n",
      "\u001b[1mCode:\u001b[0m ^[0-9]{1,14}.[0-9]{2}$\n",
      "\u001b[1mDescription:\u001b[0m Ensures that <cde> matches a numeric format with up to 14 digits before the decimal and exactly 2 digits after.\n",
      "\u001b[1mParameters:\u001b[0m []\n"
     ]
    },
    {
     "data": {
      "text/markdown": [
       "#### RuleID: DQRV0002"
      ],
      "text/plain": [
       "<IPython.core.display.Markdown object>"
      ]
     },
     "metadata": {},
     "output_type": "display_data"
    },
    {
     "name": "stdout",
     "output_type": "stream",
     "text": [
      "\u001b[1mDescription:\u001b[0m Validates that `<cde>` satisfies a numeric comparison (`<#>Operator<#>` and `<#>compare<#>`).\n",
      "\u001b[1mCondition/Logic:\u001b[0m `<cde>` must satisfy `<#>Operator<#>` `<#>compare<#>`.\n",
      "\u001b[1mExample:\u001b[0m If `<cde>`=`Score`, `<#>Operator<#>`=`>=`, and `<#>compare<#>`=`50`, then `Score`=`45` returns `False`. `Score`=`55` returns `True`.\n",
      "\u001b[1mCategory:\u001b[0m Numeric Validation\n",
      "\u001b[1mCategorization:\u001b[0m Data Type / Numeric / Length Constraints\n",
      "\u001b[1mCode:\u001b[0m <data>[cde].astype(float) <#>Operator<#> float(<#>compare<#>)\n",
      "\u001b[1mDescription:\u001b[0m Validates that <cde> satisfies a numeric comparison (<#>Operator<#> and <#>compare<#>) after being converted to a float.\n",
      "\u001b[1mParameters:\u001b[0m ['Operator', 'compare']\n"
     ]
    }
   ],
   "source": [
    "from IPython.display import Markdown, display\n",
    "\n",
    "# Print out the most similar texts\n",
    "display(Markdown(\"### Results:\"))\n",
    "for i, rule_id in enumerate(results.index):\n",
    "    row = pd.concat([df_defs.loc[rule_id], data_BoR.loc[rule_id]])\n",
    "    display(Markdown(f\"#### RuleID: {rule_id}\"))\n",
    "    for i in row.items():\n",
    "        print(f\"\\033[1m{i[0]}:\\033[0m {i[1]}\")\n",
    "        "
   ]
  },
  {
   "cell_type": "code",
   "execution_count": null,
   "metadata": {},
   "outputs": [],
   "source": []
  }
 ],
 "metadata": {
  "kernelspec": {
   "display_name": "qrs",
   "language": "python",
   "name": "python3"
  },
  "language_info": {
   "codemirror_mode": {
    "name": "ipython",
    "version": 3
   },
   "file_extension": ".py",
   "mimetype": "text/x-python",
   "name": "python",
   "nbconvert_exporter": "python",
   "pygments_lexer": "ipython3",
   "version": "3.12.8"
  }
 },
 "nbformat": 4,
 "nbformat_minor": 2
}
