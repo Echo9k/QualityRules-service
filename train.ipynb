{
 "cells": [
  {
   "cell_type": "code",
   "execution_count": null,
   "metadata": {
    "vscode": {
     "languageId": "plaintext"
    }
   },
   "outputs": [],
   "source": [
    "# train.py\n",
    "import os\n",
    "import pandas as pd\n",
    "import numpy as np\n",
    "import faiss\n",
    "from transformers import AutoTokenizer, AutoModel\n",
    "import torch\n",
    "import yaml\n",
    "\n",
    "# Load config file\n",
    "with open('config.yaml', 'r') as f:\n",
    "    config = yaml.safe_load(f)\n",
    "\n",
    "data_source = config['data_source']\n",
    "output_index = config['output_index']\n",
    "output_embeddings = config['output_embeddings']\n",
    "model_name = config['model_name']\n",
    "model_directory = config['model_directory']  # Parametrized model storage directory\n",
    "clean_up_tokenization_spaces = config['clean_up_tokenization_spaces']  # Parametrized tokenizer cleanup\n",
    "\n",
    "# Load data\n",
    "df = pd.read_csv(data_source)\n",
    "\n",
    "# Check if the model is in the folder, else download it\n",
    "if not os.path.exists(model_directory):\n",
    "    # Load the tokenizer and model\n",
    "    tokenizer = AutoTokenizer.from_pretrained(model_name, clean_up_tokenization_spaces=clean_up_tokenization_spaces)\n",
    "    model = AutoModel.from_pretrained(model_name)\n",
    "\n",
    "    # Save your files to the specified directory with PreTrainedModel.save_pretrained():\n",
    "    tokenizer.save_pretrained(os.path.join(model_directory, \"tokenizer\"))\n",
    "    model.save_pretrained(os.path.join(model_directory, \"model\"))\n",
    "else:\n",
    "    # Now when you're offline, reload your files with PreTrainedModel.from_pretrained() from the specified directory:\n",
    "    tokenizer = AutoTokenizer.from_pretrained(os.path.join(model_directory, \"tokenizer\"))\n",
    "    model = AutoModel.from_pretrained(os.path.join(model_directory, \"model\"))\n",
    "\n",
    "# Generate embeddings\n",
    "def get_embeddings(text):\n",
    "    inputs = tokenizer(text, return_tensors='pt', truncation=True, padding=True)\n",
    "    with torch.no_grad():\n",
    "        outputs = model(**inputs)\n",
    "    return outputs.last_hidden_state.mean(dim=1).squeeze().numpy()\n",
    "\n",
    "df['embeddings'] = df['text'].apply(lambda x: get_embeddings(x))\n",
    "\n",
    "# Create FAISS index\n",
    "embeddings_matrix = np.stack(df['embeddings'].values)\n",
    "index = faiss.IndexFlatL2(embeddings_matrix.shape[1])\n",
    "index.add(embeddings_matrix)\n",
    "\n",
    "# Save FAISS index and DataFrame with embeddings\n",
    "faiss.write_index(index, output_index)\n",
    "df.to_pickle(output_embeddings)\n",
    "\n",
    "print(\"Training complete. FAISS index and embeddings saved locally.\")\n"
   ]
  }
 ],
 "metadata": {
  "language_info": {
   "name": "python"
  }
 },
 "nbformat": 4,
 "nbformat_minor": 2
}
