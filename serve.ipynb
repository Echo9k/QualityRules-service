{
 "cells": [
  {
   "cell_type": "code",
   "execution_count": null,
   "metadata": {},
   "outputs": [
    {
     "ename": "",
     "evalue": "",
     "output_type": "error",
     "traceback": [
      "\u001b[1;31mRunning cells with 'Python 3.11.2' requires the ipykernel package.\n",
      "\u001b[1;31mRun the following command to install 'ipykernel' into the Python environment. \n",
      "\u001b[1;31mCommand: '/usr/bin/python3 -m pip install ipykernel -U --user --force-reinstall'"
     ]
    }
   ],
   "source": [
    "# serve.py\n",
    "import ray\n",
    "from ray import serve\n",
    "import pandas as pd\n",
    "import faiss\n",
    "from transformers import AutoTokenizer, AutoModel\n",
    "import torch\n",
    "import yaml\n",
    "\n",
    "# Load serve configuration\n",
    "with open('serve.yaml', 'r') as f:\n",
    "    config = yaml.safe_load(f)\n",
    "\n",
    "index_path = config['index_path']\n",
    "embeddings_path = config['embeddings_path']\n",
    "port = config['port']\n",
    "\n",
    "# Initialize Ray Serve\n",
    "ray.init()\n",
    "serve.start()\n",
    "\n",
    "# Load FAISS index and embeddings\n",
    "df = pd.read_pickle(embeddings_path)\n",
    "index = faiss.read_index(index_path)\n",
    "\n",
    "# Load the tokenizer and model\n",
    "tokenizer = AutoTokenizer.from_pretrained('sentence-transformers/all-MiniLM-L6-v2')\n",
    "model = AutoModel.from_pretrained('sentence-transformers/all-MiniLM-L6-v2')\n",
    "\n",
    "# Function to generate embeddings for query\n",
    "def get_embeddings(text):\n",
    "    inputs = tokenizer(text, return_tensors='pt', truncation=True, padding=True)\n",
    "    with torch.no_grad():\n",
    "        outputs = model(**inputs)\n",
    "    return outputs.last_hidden_state.mean(dim=1).squeeze().numpy()\n",
    "\n",
    "# Ray Serve deployment class\n",
    "@serve.deployment\n",
    "class SearchEngine:\n",
    "    def __init__(self):\n",
    "        self.df = df\n",
    "        self.index = index\n",
    "\n",
    "    def search(self, query, top_k=5):\n",
    "        query_embedding = get_embeddings(query).reshape(1, -1)\n",
    "        distances, indices = self.index.search(query_embedding, top_k)\n",
    "        results = self.df.iloc[indices[0]]\n",
    "        return results[['id', 'text']].to_dict(orient=\"records\"), distances[0].tolist()\n",
    "\n",
    "    async def __call__(self, request):\n",
    "        query = await request.json()\n",
    "        query_text = query['query']\n",
    "        top_k = query.get('top_k', 5)\n",
    "        results, distances = self.search(query_text, top_k)\n",
    "        return {\"results\": results, \"distances\": distances}\n",
    "\n",
    "# Create and run the deployment\n",
    "search_engine = SearchEngine.bind()"
   ]
  },
  {
   "cell_type": "code",
   "execution_count": null,
   "metadata": {},
   "outputs": [],
   "source": [
    "# Start the deployment and set the route prefix here\n",
    "%pdef serve.run"
   ]
  }
 ],
 "metadata": {
  "kernelspec": {
   "display_name": "Python 3",
   "language": "python",
   "name": "python3"
  },
  "language_info": {
   "name": "python",
   "version": "3.11.2"
  }
 },
 "nbformat": 4,
 "nbformat_minor": 2
}
